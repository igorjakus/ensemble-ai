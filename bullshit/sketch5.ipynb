{
 "cells": [
  {
   "cell_type": "code",
   "execution_count": 11,
   "metadata": {},
   "outputs": [],
   "source": [
    "import matplotlib.pyplot as plt\n",
    "import torch\n",
    "import torch.nn as nn\n",
    "import torch.optim as optim\n",
    "from torch.utils.data import DataLoader\n",
    "from torchvision import models\n",
    "from tqdm.notebook import tqdm\n",
    "\n",
    "from task_dataset import load_dataset, TaskDataset, shuffle  # noqa !!! don't remove this line\n",
    "from adversary import fgsm_attack, pgd_attack"
   ]
  },
  {
   "cell_type": "code",
   "execution_count": 12,
   "metadata": {},
   "outputs": [
    {
     "name": "stderr",
     "output_type": "stream",
     "text": [
      "/Users/igorjakus/projects/ensemble-ai/task_3/task_dataset.py:33: FutureWarning: You are using `torch.load` with `weights_only=False` (the current default value), which uses the default pickle module implicitly. It is possible to construct malicious pickle data which will execute arbitrary code during unpickling (See https://github.com/pytorch/pytorch/blob/main/SECURITY.md#untrusted-models for more details). In a future release, the default value for `weights_only` will be flipped to `True`. This limits the functions that could be executed during unpickling. Arbitrary objects will no longer be allowed to be loaded via this mode unless they are explicitly allowlisted by the user via `torch.serialization.add_safe_globals`. We recommend you start setting `weights_only=True` for any use case where you don't have full control of the loaded file. Please open an issue on GitHub for any issues related to this experimental feature.\n",
      "  dataset = torch.load(path)\n"
     ]
    }
   ],
   "source": [
    "# visualization of the dataset is in dataset.ipynb\n",
    "dataset = load_dataset('Train.pt')\n",
    "num_classes = len(set(dataset.labels))\n",
    "\n",
    "# shuffle the dataset\n",
    "# shuffle(dataset)\n",
    "\n",
    "train_size = int(0.8 * len(dataset))\n",
    "test_size = int(0.1 * len(dataset))\n",
    "dev_size = len(dataset) - train_size - test_size\n",
    "\n",
    "# TODO: czy to na pewno poprawnie dziala?\n",
    "train_dataset, test_dataset, dev_dataset = torch.utils.data.random_split(\n",
    "    dataset, [train_size, test_size, dev_size])\n",
    "\n",
    "train_loader = DataLoader(train_dataset, batch_size=64, shuffle=True, num_workers=0)\n",
    "test_loader = DataLoader(test_dataset, batch_size=64, shuffle=False, num_workers=0)\n",
    "dev_loader = DataLoader(dev_dataset, batch_size=1, shuffle=False, num_workers=0)  # FIXME: batch_size=1"
   ]
  },
  {
   "cell_type": "code",
   "execution_count": 13,
   "metadata": {},
   "outputs": [
    {
     "name": "stdout",
     "output_type": "stream",
     "text": [
      "Using device: cpu\n"
     ]
    }
   ],
   "source": [
    "# Create model\n",
    "device = torch.device(\"cuda\" if torch.cuda.is_available() else \"cpu\")\n",
    "print(f\"Using device: {device}\")"
   ]
  },
  {
   "cell_type": "code",
   "execution_count": 14,
   "metadata": {},
   "outputs": [],
   "source": [
    "class Resnet18(nn.Module):\n",
    "    def __init__(self):\n",
    "        super(Resnet18, self).__init__()\n",
    "        self.model = models.resnet18(pretrained=True)\n",
    "        self.model_name = \"resnet18\"\n",
    "        self.model.fc = nn.Linear(self.model.fc.in_features, num_classes)\n",
    "        self.model = self.model.to(device)\n",
    "\n",
    "        self.optimizer = optim.Adam(self.model.parameters(), lr=0.001)\n",
    "        self.criterion = nn.CrossEntropyLoss()\n",
    "\n",
    "    def forward(self, x):\n",
    "        return self.model(x)"
   ]
  },
  {
   "cell_type": "code",
   "execution_count": null,
   "metadata": {},
   "outputs": [],
   "source": [
    "def train(model: Resnet18, dataloader: DataLoader, num_epochs: int):\n",
    "    # hyperparameters\n",
    "    learning_rate = 0.001\n",
    "    epsilon = 0.1\n",
    "    alpha = 0.01\n",
    "    iters = 10\n",
    "    \n",
    "    model.train()  # make sure the model is in training mode\n",
    "    criterion = nn.CrossEntropyLoss()\n",
    "    optimizer = optim.Adam(model.parameters(), lr=learning_rate)\n",
    "\n",
    "    for epoch in range(num_epochs):\n",
    "        for batch_idx, batch in enumerate(dataloader):\n",
    "            idxs, imgs, labels = batch\n",
    "\n",
    "            # Standard forward pass\n",
    "            outputs = model(imgs)\n",
    "            loss = criterion(outputs, labels)\n",
    "            \n",
    "            # FGSM Attack\n",
    "            adv_inputs = fgsm_attack(model, criterion, imgs, labels, epsilon)\n",
    "            adv_outputs = model(adv_inputs)\n",
    "            adv_loss = criterion(adv_outputs, labels)\n",
    "            \n",
    "            # PGD Attack\n",
    "            pgd_inputs = pgd_attack(model, criterion, imgs, labels, epsilon, alpha, iters)\n",
    "            pgd_outputs = model(pgd_inputs)\n",
    "            pgd_loss = criterion(pgd_outputs, labels)\n",
    "            \n",
    "            # Total loss\n",
    "            total_loss = (loss + adv_loss + pgd_loss) / 3\n",
    "            \n",
    "            optimizer.zero_grad()\n",
    "            total_loss.backward()\n",
    "            optimizer.step()\n",
    "\n",
    "            if batch_idx % 10 == 0:\n",
    "                print(f\"Epoch [{epoch+1}/{num_epochs}], Step [{batch_idx+1}/{len(dataloader)}], Loss: {total_loss.item():.4f}\")\n",
    "    \n",
    "    print(\"Training finished!\")"
   ]
  },
  {
   "cell_type": "code",
   "execution_count": 16,
   "metadata": {},
   "outputs": [
    {
     "name": "stderr",
     "output_type": "stream",
     "text": [
      "/Users/igorjakus/.pyenv/versions/3.12.4/lib/python3.12/site-packages/torchvision/models/_utils.py:208: UserWarning: The parameter 'pretrained' is deprecated since 0.13 and may be removed in the future, please use 'weights' instead.\n",
      "  warnings.warn(\n",
      "/Users/igorjakus/.pyenv/versions/3.12.4/lib/python3.12/site-packages/torchvision/models/_utils.py:223: UserWarning: Arguments other than a weight enum or `None` for 'weights' are deprecated since 0.13 and may be removed in the future. The current behavior is equivalent to passing `weights=ResNet18_Weights.IMAGENET1K_V1`. You can also use `weights=ResNet18_Weights.DEFAULT` to get the most up-to-date weights.\n",
      "  warnings.warn(msg)\n"
     ]
    }
   ],
   "source": [
    "model = Resnet18()"
   ]
  },
  {
   "cell_type": "code",
   "execution_count": 17,
   "metadata": {},
   "outputs": [
    {
     "name": "stdout",
     "output_type": "stream",
     "text": [
      "Epoch [1/1], Step [1/1250], Loss: 1.5004\n",
      "Epoch [1/1], Step [11/1250], Loss: 0.8908\n",
      "Epoch [1/1], Step [21/1250], Loss: 0.6449\n",
      "Epoch [1/1], Step [31/1250], Loss: 1.7480\n",
      "Epoch [1/1], Step [41/1250], Loss: 0.9551\n",
      "Epoch [1/1], Step [51/1250], Loss: 1.7237\n",
      "Epoch [1/1], Step [61/1250], Loss: 1.0367\n",
      "Epoch [1/1], Step [71/1250], Loss: 3.3167\n",
      "Epoch [1/1], Step [81/1250], Loss: 1.1122\n",
      "Epoch [1/1], Step [91/1250], Loss: 0.8689\n",
      "Epoch [1/1], Step [101/1250], Loss: 2.6438\n",
      "Epoch [1/1], Step [111/1250], Loss: 2.2765\n",
      "Epoch [1/1], Step [121/1250], Loss: 1.3093\n",
      "Epoch [1/1], Step [131/1250], Loss: 1.3777\n",
      "Epoch [1/1], Step [141/1250], Loss: 1.5192\n",
      "Epoch [1/1], Step [151/1250], Loss: 0.6847\n",
      "Epoch [1/1], Step [161/1250], Loss: 3.0586\n",
      "Epoch [1/1], Step [171/1250], Loss: 1.1239\n",
      "Epoch [1/1], Step [181/1250], Loss: 1.0968\n",
      "Epoch [1/1], Step [191/1250], Loss: 1.0864\n",
      "Epoch [1/1], Step [201/1250], Loss: 2.2855\n",
      "Epoch [1/1], Step [211/1250], Loss: 4.6864\n",
      "Epoch [1/1], Step [221/1250], Loss: 1.7319\n",
      "Epoch [1/1], Step [231/1250], Loss: 2.8686\n",
      "Epoch [1/1], Step [241/1250], Loss: 2.0031\n",
      "Epoch [1/1], Step [251/1250], Loss: 1.3477\n",
      "Epoch [1/1], Step [261/1250], Loss: 1.1592\n",
      "Epoch [1/1], Step [271/1250], Loss: 1.1126\n",
      "Epoch [1/1], Step [281/1250], Loss: 1.1387\n",
      "Epoch [1/1], Step [291/1250], Loss: 1.2302\n",
      "Epoch [1/1], Step [301/1250], Loss: 4.3766\n",
      "Epoch [1/1], Step [311/1250], Loss: 4.8236\n",
      "Epoch [1/1], Step [321/1250], Loss: 3.0534\n",
      "Epoch [1/1], Step [331/1250], Loss: 2.4653\n",
      "Epoch [1/1], Step [341/1250], Loss: 1.5900\n",
      "Epoch [1/1], Step [351/1250], Loss: 2.0620\n",
      "Epoch [1/1], Step [361/1250], Loss: 1.1317\n",
      "Epoch [1/1], Step [371/1250], Loss: 0.8792\n",
      "Epoch [1/1], Step [381/1250], Loss: 5.5094\n",
      "Epoch [1/1], Step [391/1250], Loss: 1.5594\n",
      "Epoch [1/1], Step [401/1250], Loss: 2.9496\n",
      "Epoch [1/1], Step [411/1250], Loss: 1.8048\n",
      "Epoch [1/1], Step [421/1250], Loss: 1.7331\n",
      "Epoch [1/1], Step [431/1250], Loss: 4.5652\n",
      "Epoch [1/1], Step [441/1250], Loss: 1.2786\n",
      "Epoch [1/1], Step [451/1250], Loss: 1.1966\n",
      "Epoch [1/1], Step [461/1250], Loss: 1.0650\n",
      "Epoch [1/1], Step [471/1250], Loss: 2.7600\n",
      "Epoch [1/1], Step [481/1250], Loss: 1.4949\n",
      "Epoch [1/1], Step [491/1250], Loss: 2.3359\n",
      "Epoch [1/1], Step [501/1250], Loss: 1.9855\n",
      "Epoch [1/1], Step [511/1250], Loss: 1.5822\n",
      "Epoch [1/1], Step [521/1250], Loss: 3.0598\n",
      "Epoch [1/1], Step [531/1250], Loss: 3.2146\n",
      "Epoch [1/1], Step [541/1250], Loss: 1.1316\n",
      "Epoch [1/1], Step [551/1250], Loss: 3.9745\n",
      "Epoch [1/1], Step [561/1250], Loss: 2.4760\n",
      "Epoch [1/1], Step [571/1250], Loss: 3.5514\n",
      "Epoch [1/1], Step [581/1250], Loss: 2.1271\n",
      "Epoch [1/1], Step [591/1250], Loss: 3.4171\n",
      "Epoch [1/1], Step [601/1250], Loss: 2.9518\n",
      "Epoch [1/1], Step [611/1250], Loss: 1.4961\n",
      "Epoch [1/1], Step [621/1250], Loss: 0.9574\n",
      "Epoch [1/1], Step [631/1250], Loss: 3.0423\n",
      "Epoch [1/1], Step [641/1250], Loss: 1.0435\n",
      "Epoch [1/1], Step [651/1250], Loss: 2.0868\n",
      "Epoch [1/1], Step [661/1250], Loss: 1.4236\n",
      "Epoch [1/1], Step [671/1250], Loss: 1.3250\n",
      "Epoch [1/1], Step [681/1250], Loss: 1.2873\n",
      "Epoch [1/1], Step [691/1250], Loss: 2.2588\n",
      "Epoch [1/1], Step [701/1250], Loss: 4.6118\n",
      "Epoch [1/1], Step [711/1250], Loss: 3.9384\n",
      "Epoch [1/1], Step [721/1250], Loss: 2.2707\n",
      "Epoch [1/1], Step [731/1250], Loss: 2.1402\n",
      "Epoch [1/1], Step [741/1250], Loss: 1.2104\n",
      "Epoch [1/1], Step [751/1250], Loss: 0.8280\n",
      "Epoch [1/1], Step [761/1250], Loss: 4.6810\n",
      "Epoch [1/1], Step [771/1250], Loss: 3.6382\n",
      "Epoch [1/1], Step [781/1250], Loss: 0.7911\n",
      "Epoch [1/1], Step [791/1250], Loss: 4.0115\n",
      "Epoch [1/1], Step [801/1250], Loss: 1.7752\n",
      "Epoch [1/1], Step [811/1250], Loss: 3.1862\n",
      "Epoch [1/1], Step [821/1250], Loss: 1.3918\n",
      "Epoch [1/1], Step [831/1250], Loss: 0.8787\n",
      "Epoch [1/1], Step [841/1250], Loss: 2.9610\n",
      "Epoch [1/1], Step [851/1250], Loss: 2.0379\n",
      "Epoch [1/1], Step [861/1250], Loss: 0.7698\n",
      "Epoch [1/1], Step [871/1250], Loss: 0.7993\n",
      "Epoch [1/1], Step [881/1250], Loss: 1.3934\n",
      "Epoch [1/1], Step [891/1250], Loss: 1.4909\n",
      "Epoch [1/1], Step [901/1250], Loss: 0.9971\n",
      "Epoch [1/1], Step [911/1250], Loss: 1.1652\n",
      "Epoch [1/1], Step [921/1250], Loss: 3.7520\n",
      "Epoch [1/1], Step [931/1250], Loss: 1.3174\n",
      "Epoch [1/1], Step [941/1250], Loss: 1.0991\n",
      "Epoch [1/1], Step [951/1250], Loss: 2.5271\n",
      "Epoch [1/1], Step [961/1250], Loss: 1.0556\n",
      "Epoch [1/1], Step [971/1250], Loss: 1.9365\n",
      "Epoch [1/1], Step [981/1250], Loss: 3.5663\n",
      "Epoch [1/1], Step [991/1250], Loss: 1.2686\n",
      "Epoch [1/1], Step [1001/1250], Loss: 1.8886\n",
      "Epoch [1/1], Step [1011/1250], Loss: 0.9136\n",
      "Epoch [1/1], Step [1021/1250], Loss: 1.9096\n",
      "Epoch [1/1], Step [1031/1250], Loss: 1.6056\n",
      "Epoch [1/1], Step [1041/1250], Loss: 1.3116\n",
      "Epoch [1/1], Step [1051/1250], Loss: 1.0005\n",
      "Epoch [1/1], Step [1061/1250], Loss: 1.0617\n",
      "Epoch [1/1], Step [1071/1250], Loss: 3.0067\n",
      "Epoch [1/1], Step [1081/1250], Loss: 1.7443\n",
      "Epoch [1/1], Step [1091/1250], Loss: 2.9832\n",
      "Epoch [1/1], Step [1101/1250], Loss: 1.4745\n",
      "Epoch [1/1], Step [1111/1250], Loss: 2.7451\n",
      "Epoch [1/1], Step [1121/1250], Loss: 2.9985\n",
      "Epoch [1/1], Step [1131/1250], Loss: 1.6665\n",
      "Epoch [1/1], Step [1141/1250], Loss: 1.3053\n",
      "Epoch [1/1], Step [1151/1250], Loss: 1.7708\n",
      "Epoch [1/1], Step [1161/1250], Loss: 0.6617\n",
      "Epoch [1/1], Step [1171/1250], Loss: 2.6897\n",
      "Epoch [1/1], Step [1181/1250], Loss: 1.4145\n"
     ]
    },
    {
     "ename": "KeyboardInterrupt",
     "evalue": "",
     "output_type": "error",
     "traceback": [
      "\u001b[0;31m---------------------------------------------------------------------------\u001b[0m",
      "\u001b[0;31mKeyboardInterrupt\u001b[0m                         Traceback (most recent call last)",
      "Cell \u001b[0;32mIn[17], line 1\u001b[0m\n\u001b[0;32m----> 1\u001b[0m \u001b[43mtrain\u001b[49m\u001b[43m(\u001b[49m\u001b[43mmodel\u001b[49m\u001b[43m,\u001b[49m\u001b[43m \u001b[49m\u001b[43mdev_loader\u001b[49m\u001b[43m,\u001b[49m\u001b[43m \u001b[49m\u001b[38;5;241;43m1\u001b[39;49m\u001b[43m)\u001b[49m\n",
      "Cell \u001b[0;32mIn[15], line 26\u001b[0m, in \u001b[0;36mtrain\u001b[0;34m(model, dataloader, num_epochs)\u001b[0m\n\u001b[1;32m     23\u001b[0m adv_loss \u001b[38;5;241m=\u001b[39m criterion(adv_outputs, labels)\n\u001b[1;32m     25\u001b[0m \u001b[38;5;66;03m# PGD Attack\u001b[39;00m\n\u001b[0;32m---> 26\u001b[0m pgd_inputs \u001b[38;5;241m=\u001b[39m \u001b[43mpgd_attack\u001b[49m\u001b[43m(\u001b[49m\u001b[43mmodel\u001b[49m\u001b[43m,\u001b[49m\u001b[43m \u001b[49m\u001b[43mcriterion\u001b[49m\u001b[43m,\u001b[49m\u001b[43m \u001b[49m\u001b[43mimgs\u001b[49m\u001b[43m,\u001b[49m\u001b[43m \u001b[49m\u001b[43mlabels\u001b[49m\u001b[43m,\u001b[49m\u001b[43m \u001b[49m\u001b[43mepsilon\u001b[49m\u001b[43m,\u001b[49m\u001b[43m \u001b[49m\u001b[43malpha\u001b[49m\u001b[43m,\u001b[49m\u001b[43m \u001b[49m\u001b[43miters\u001b[49m\u001b[43m)\u001b[49m\n\u001b[1;32m     27\u001b[0m pgd_outputs \u001b[38;5;241m=\u001b[39m model(pgd_inputs)\n\u001b[1;32m     28\u001b[0m pgd_loss \u001b[38;5;241m=\u001b[39m criterion(pgd_outputs, labels)\n",
      "File \u001b[0;32m~/projects/ensemble-ai/task_3/adversary.py:41\u001b[0m, in \u001b[0;36mpgd_attack\u001b[0;34m(model, criterion, images, labels, epsilon, alpha, num_iter)\u001b[0m\n\u001b[1;32m     39\u001b[0m \u001b[38;5;28;01mif\u001b[39;00m perturbed_images\u001b[38;5;241m.\u001b[39mgrad \u001b[38;5;129;01mis\u001b[39;00m \u001b[38;5;129;01mnot\u001b[39;00m \u001b[38;5;28;01mNone\u001b[39;00m:\n\u001b[1;32m     40\u001b[0m     perturbed_images\u001b[38;5;241m.\u001b[39mgrad\u001b[38;5;241m.\u001b[39mdata\u001b[38;5;241m.\u001b[39mzero_()\n\u001b[0;32m---> 41\u001b[0m \u001b[43mloss\u001b[49m\u001b[38;5;241;43m.\u001b[39;49m\u001b[43mbackward\u001b[49m\u001b[43m(\u001b[49m\u001b[43m)\u001b[49m\n\u001b[1;32m     43\u001b[0m \u001b[38;5;66;03m# Create single-step perturbation\u001b[39;00m\n\u001b[1;32m     44\u001b[0m data_grad \u001b[38;5;241m=\u001b[39m perturbed_images\u001b[38;5;241m.\u001b[39mgrad\u001b[38;5;241m.\u001b[39mdata\n",
      "File \u001b[0;32m~/.pyenv/versions/3.12.4/lib/python3.12/site-packages/torch/_tensor.py:581\u001b[0m, in \u001b[0;36mTensor.backward\u001b[0;34m(self, gradient, retain_graph, create_graph, inputs)\u001b[0m\n\u001b[1;32m    571\u001b[0m \u001b[38;5;28;01mif\u001b[39;00m has_torch_function_unary(\u001b[38;5;28mself\u001b[39m):\n\u001b[1;32m    572\u001b[0m     \u001b[38;5;28;01mreturn\u001b[39;00m handle_torch_function(\n\u001b[1;32m    573\u001b[0m         Tensor\u001b[38;5;241m.\u001b[39mbackward,\n\u001b[1;32m    574\u001b[0m         (\u001b[38;5;28mself\u001b[39m,),\n\u001b[0;32m   (...)\u001b[0m\n\u001b[1;32m    579\u001b[0m         inputs\u001b[38;5;241m=\u001b[39minputs,\n\u001b[1;32m    580\u001b[0m     )\n\u001b[0;32m--> 581\u001b[0m \u001b[43mtorch\u001b[49m\u001b[38;5;241;43m.\u001b[39;49m\u001b[43mautograd\u001b[49m\u001b[38;5;241;43m.\u001b[39;49m\u001b[43mbackward\u001b[49m\u001b[43m(\u001b[49m\n\u001b[1;32m    582\u001b[0m \u001b[43m    \u001b[49m\u001b[38;5;28;43mself\u001b[39;49m\u001b[43m,\u001b[49m\u001b[43m \u001b[49m\u001b[43mgradient\u001b[49m\u001b[43m,\u001b[49m\u001b[43m \u001b[49m\u001b[43mretain_graph\u001b[49m\u001b[43m,\u001b[49m\u001b[43m \u001b[49m\u001b[43mcreate_graph\u001b[49m\u001b[43m,\u001b[49m\u001b[43m \u001b[49m\u001b[43minputs\u001b[49m\u001b[38;5;241;43m=\u001b[39;49m\u001b[43minputs\u001b[49m\n\u001b[1;32m    583\u001b[0m \u001b[43m\u001b[49m\u001b[43m)\u001b[49m\n",
      "File \u001b[0;32m~/.pyenv/versions/3.12.4/lib/python3.12/site-packages/torch/autograd/__init__.py:347\u001b[0m, in \u001b[0;36mbackward\u001b[0;34m(tensors, grad_tensors, retain_graph, create_graph, grad_variables, inputs)\u001b[0m\n\u001b[1;32m    342\u001b[0m     retain_graph \u001b[38;5;241m=\u001b[39m create_graph\n\u001b[1;32m    344\u001b[0m \u001b[38;5;66;03m# The reason we repeat the same comment below is that\u001b[39;00m\n\u001b[1;32m    345\u001b[0m \u001b[38;5;66;03m# some Python versions print out the first line of a multi-line function\u001b[39;00m\n\u001b[1;32m    346\u001b[0m \u001b[38;5;66;03m# calls in the traceback and some print out the last line\u001b[39;00m\n\u001b[0;32m--> 347\u001b[0m \u001b[43m_engine_run_backward\u001b[49m\u001b[43m(\u001b[49m\n\u001b[1;32m    348\u001b[0m \u001b[43m    \u001b[49m\u001b[43mtensors\u001b[49m\u001b[43m,\u001b[49m\n\u001b[1;32m    349\u001b[0m \u001b[43m    \u001b[49m\u001b[43mgrad_tensors_\u001b[49m\u001b[43m,\u001b[49m\n\u001b[1;32m    350\u001b[0m \u001b[43m    \u001b[49m\u001b[43mretain_graph\u001b[49m\u001b[43m,\u001b[49m\n\u001b[1;32m    351\u001b[0m \u001b[43m    \u001b[49m\u001b[43mcreate_graph\u001b[49m\u001b[43m,\u001b[49m\n\u001b[1;32m    352\u001b[0m \u001b[43m    \u001b[49m\u001b[43minputs\u001b[49m\u001b[43m,\u001b[49m\n\u001b[1;32m    353\u001b[0m \u001b[43m    \u001b[49m\u001b[43mallow_unreachable\u001b[49m\u001b[38;5;241;43m=\u001b[39;49m\u001b[38;5;28;43;01mTrue\u001b[39;49;00m\u001b[43m,\u001b[49m\n\u001b[1;32m    354\u001b[0m \u001b[43m    \u001b[49m\u001b[43maccumulate_grad\u001b[49m\u001b[38;5;241;43m=\u001b[39;49m\u001b[38;5;28;43;01mTrue\u001b[39;49;00m\u001b[43m,\u001b[49m\n\u001b[1;32m    355\u001b[0m \u001b[43m\u001b[49m\u001b[43m)\u001b[49m\n",
      "File \u001b[0;32m~/.pyenv/versions/3.12.4/lib/python3.12/site-packages/torch/autograd/graph.py:825\u001b[0m, in \u001b[0;36m_engine_run_backward\u001b[0;34m(t_outputs, *args, **kwargs)\u001b[0m\n\u001b[1;32m    823\u001b[0m     unregister_hooks \u001b[38;5;241m=\u001b[39m _register_logging_hooks_on_whole_graph(t_outputs)\n\u001b[1;32m    824\u001b[0m \u001b[38;5;28;01mtry\u001b[39;00m:\n\u001b[0;32m--> 825\u001b[0m     \u001b[38;5;28;01mreturn\u001b[39;00m \u001b[43mVariable\u001b[49m\u001b[38;5;241;43m.\u001b[39;49m\u001b[43m_execution_engine\u001b[49m\u001b[38;5;241;43m.\u001b[39;49m\u001b[43mrun_backward\u001b[49m\u001b[43m(\u001b[49m\u001b[43m  \u001b[49m\u001b[38;5;66;43;03m# Calls into the C++ engine to run the backward pass\u001b[39;49;00m\n\u001b[1;32m    826\u001b[0m \u001b[43m        \u001b[49m\u001b[43mt_outputs\u001b[49m\u001b[43m,\u001b[49m\u001b[43m \u001b[49m\u001b[38;5;241;43m*\u001b[39;49m\u001b[43margs\u001b[49m\u001b[43m,\u001b[49m\u001b[43m \u001b[49m\u001b[38;5;241;43m*\u001b[39;49m\u001b[38;5;241;43m*\u001b[39;49m\u001b[43mkwargs\u001b[49m\n\u001b[1;32m    827\u001b[0m \u001b[43m    \u001b[49m\u001b[43m)\u001b[49m  \u001b[38;5;66;03m# Calls into the C++ engine to run the backward pass\u001b[39;00m\n\u001b[1;32m    828\u001b[0m \u001b[38;5;28;01mfinally\u001b[39;00m:\n\u001b[1;32m    829\u001b[0m     \u001b[38;5;28;01mif\u001b[39;00m attach_logging_hooks:\n",
      "\u001b[0;31mKeyboardInterrupt\u001b[0m: "
     ]
    }
   ],
   "source": [
    "train(model, dev_loader, 1)"
   ]
  },
  {
   "cell_type": "code",
   "execution_count": 18,
   "metadata": {},
   "outputs": [],
   "source": [
    "def evaluate(model: Resnet18, dataloader: DataLoader):\n",
    "    model.eval()  # make sure model is in evaluation mode\n",
    "    with torch.no_grad():\n",
    "        # clean accuracy\n",
    "        correct, total = 0, 0\n",
    "        for batch in dataloader:\n",
    "            idxs, imgs, labels = batch\n",
    "            outputs = model(imgs)\n",
    "            _, predicted = torch.max(outputs.data, 1)\n",
    "            total += labels.size(0)\n",
    "            correct += (predicted == labels).sum().item()\n",
    "        accuracy_clean = 100 * correct / total\n",
    "        print(f\"{accuracy_clean=}\")\n",
    "\n",
    "        # FGSM accuracy\n",
    "        correct, total = 0, 0\n",
    "        for batch in dataloader:\n",
    "            idxs, imgs, labels = batch\n",
    "            adv_inputs = fgsm_attack(model, model.criterion, imgs, labels, 0.1)\n",
    "            outputs = model(adv_inputs)\n",
    "            _, predicted = torch.max(outputs.data, 1)\n",
    "            total += labels.size(0)\n",
    "            correct += (predicted == labels).sum().item()\n",
    "        accuracy_fgsm = 100 * correct / total\n",
    "        print(f\"{accuracy_fgsm=}\")\n",
    "\n",
    "        # PGD accuracy\n",
    "        correct, total = 0, 0\n",
    "        for batch in dataloader:\n",
    "            idxs, imgs, labels = batch\n",
    "            adv_inputs = pgd_attack(model, model.criterion, imgs, labels, 0.1, 0.01, 10)\n",
    "            outputs = model(adv_inputs)\n",
    "            _, predicted = torch.max(outputs.data, 1)\n",
    "            total += labels.size(0)\n",
    "            correct += (predicted == labels).sum().item()\n",
    "        accuracy_pgd = 100 * correct / total\n",
    "        print(f\"{accuracy_pgd=}\")"
   ]
  },
  {
   "cell_type": "code",
   "execution_count": 19,
   "metadata": {},
   "outputs": [
    {
     "name": "stdout",
     "output_type": "stream",
     "text": [
      "accuracy_clean=25.12\n"
     ]
    },
    {
     "ename": "RuntimeError",
     "evalue": "element 0 of tensors does not require grad and does not have a grad_fn",
     "output_type": "error",
     "traceback": [
      "\u001b[0;31m---------------------------------------------------------------------------\u001b[0m",
      "\u001b[0;31mRuntimeError\u001b[0m                              Traceback (most recent call last)",
      "Cell \u001b[0;32mIn[19], line 1\u001b[0m\n\u001b[0;32m----> 1\u001b[0m \u001b[43mevaluate\u001b[49m\u001b[43m(\u001b[49m\u001b[43mmodel\u001b[49m\u001b[43m,\u001b[49m\u001b[43m \u001b[49m\u001b[43mtest_loader\u001b[49m\u001b[43m)\u001b[49m\n",
      "Cell \u001b[0;32mIn[18], line 19\u001b[0m, in \u001b[0;36mevaluate\u001b[0;34m(model, dataloader)\u001b[0m\n\u001b[1;32m     17\u001b[0m \u001b[38;5;28;01mfor\u001b[39;00m batch \u001b[38;5;129;01min\u001b[39;00m dataloader:\n\u001b[1;32m     18\u001b[0m     idxs, imgs, labels \u001b[38;5;241m=\u001b[39m batch\n\u001b[0;32m---> 19\u001b[0m     adv_inputs \u001b[38;5;241m=\u001b[39m \u001b[43mfgsm_attack\u001b[49m\u001b[43m(\u001b[49m\u001b[43mmodel\u001b[49m\u001b[43m,\u001b[49m\u001b[43m \u001b[49m\u001b[43mmodel\u001b[49m\u001b[38;5;241;43m.\u001b[39;49m\u001b[43mcriterion\u001b[49m\u001b[43m,\u001b[49m\u001b[43m \u001b[49m\u001b[43mimgs\u001b[49m\u001b[43m,\u001b[49m\u001b[43m \u001b[49m\u001b[43mlabels\u001b[49m\u001b[43m,\u001b[49m\u001b[43m \u001b[49m\u001b[38;5;241;43m0.1\u001b[39;49m\u001b[43m)\u001b[49m\n\u001b[1;32m     20\u001b[0m     outputs \u001b[38;5;241m=\u001b[39m model(adv_inputs)\n\u001b[1;32m     21\u001b[0m     _, predicted \u001b[38;5;241m=\u001b[39m torch\u001b[38;5;241m.\u001b[39mmax(outputs\u001b[38;5;241m.\u001b[39mdata, \u001b[38;5;241m1\u001b[39m)\n",
      "File \u001b[0;32m~/projects/ensemble-ai/task_3/adversary.py:14\u001b[0m, in \u001b[0;36mfgsm_attack\u001b[0;34m(model, criterion, images, labels, epsilon)\u001b[0m\n\u001b[1;32m     12\u001b[0m \u001b[38;5;66;03m# Backward pass\u001b[39;00m\n\u001b[1;32m     13\u001b[0m model\u001b[38;5;241m.\u001b[39mzero_grad()\n\u001b[0;32m---> 14\u001b[0m \u001b[43mloss\u001b[49m\u001b[38;5;241;43m.\u001b[39;49m\u001b[43mbackward\u001b[49m\u001b[43m(\u001b[49m\u001b[43m)\u001b[49m\n\u001b[1;32m     16\u001b[0m \u001b[38;5;66;03m# Create perturbation\u001b[39;00m\n\u001b[1;32m     17\u001b[0m data_grad \u001b[38;5;241m=\u001b[39m images\u001b[38;5;241m.\u001b[39mgrad\u001b[38;5;241m.\u001b[39mdata\n",
      "File \u001b[0;32m~/.pyenv/versions/3.12.4/lib/python3.12/site-packages/torch/_tensor.py:581\u001b[0m, in \u001b[0;36mTensor.backward\u001b[0;34m(self, gradient, retain_graph, create_graph, inputs)\u001b[0m\n\u001b[1;32m    571\u001b[0m \u001b[38;5;28;01mif\u001b[39;00m has_torch_function_unary(\u001b[38;5;28mself\u001b[39m):\n\u001b[1;32m    572\u001b[0m     \u001b[38;5;28;01mreturn\u001b[39;00m handle_torch_function(\n\u001b[1;32m    573\u001b[0m         Tensor\u001b[38;5;241m.\u001b[39mbackward,\n\u001b[1;32m    574\u001b[0m         (\u001b[38;5;28mself\u001b[39m,),\n\u001b[0;32m   (...)\u001b[0m\n\u001b[1;32m    579\u001b[0m         inputs\u001b[38;5;241m=\u001b[39minputs,\n\u001b[1;32m    580\u001b[0m     )\n\u001b[0;32m--> 581\u001b[0m \u001b[43mtorch\u001b[49m\u001b[38;5;241;43m.\u001b[39;49m\u001b[43mautograd\u001b[49m\u001b[38;5;241;43m.\u001b[39;49m\u001b[43mbackward\u001b[49m\u001b[43m(\u001b[49m\n\u001b[1;32m    582\u001b[0m \u001b[43m    \u001b[49m\u001b[38;5;28;43mself\u001b[39;49m\u001b[43m,\u001b[49m\u001b[43m \u001b[49m\u001b[43mgradient\u001b[49m\u001b[43m,\u001b[49m\u001b[43m \u001b[49m\u001b[43mretain_graph\u001b[49m\u001b[43m,\u001b[49m\u001b[43m \u001b[49m\u001b[43mcreate_graph\u001b[49m\u001b[43m,\u001b[49m\u001b[43m \u001b[49m\u001b[43minputs\u001b[49m\u001b[38;5;241;43m=\u001b[39;49m\u001b[43minputs\u001b[49m\n\u001b[1;32m    583\u001b[0m \u001b[43m\u001b[49m\u001b[43m)\u001b[49m\n",
      "File \u001b[0;32m~/.pyenv/versions/3.12.4/lib/python3.12/site-packages/torch/autograd/__init__.py:347\u001b[0m, in \u001b[0;36mbackward\u001b[0;34m(tensors, grad_tensors, retain_graph, create_graph, grad_variables, inputs)\u001b[0m\n\u001b[1;32m    342\u001b[0m     retain_graph \u001b[38;5;241m=\u001b[39m create_graph\n\u001b[1;32m    344\u001b[0m \u001b[38;5;66;03m# The reason we repeat the same comment below is that\u001b[39;00m\n\u001b[1;32m    345\u001b[0m \u001b[38;5;66;03m# some Python versions print out the first line of a multi-line function\u001b[39;00m\n\u001b[1;32m    346\u001b[0m \u001b[38;5;66;03m# calls in the traceback and some print out the last line\u001b[39;00m\n\u001b[0;32m--> 347\u001b[0m \u001b[43m_engine_run_backward\u001b[49m\u001b[43m(\u001b[49m\n\u001b[1;32m    348\u001b[0m \u001b[43m    \u001b[49m\u001b[43mtensors\u001b[49m\u001b[43m,\u001b[49m\n\u001b[1;32m    349\u001b[0m \u001b[43m    \u001b[49m\u001b[43mgrad_tensors_\u001b[49m\u001b[43m,\u001b[49m\n\u001b[1;32m    350\u001b[0m \u001b[43m    \u001b[49m\u001b[43mretain_graph\u001b[49m\u001b[43m,\u001b[49m\n\u001b[1;32m    351\u001b[0m \u001b[43m    \u001b[49m\u001b[43mcreate_graph\u001b[49m\u001b[43m,\u001b[49m\n\u001b[1;32m    352\u001b[0m \u001b[43m    \u001b[49m\u001b[43minputs\u001b[49m\u001b[43m,\u001b[49m\n\u001b[1;32m    353\u001b[0m \u001b[43m    \u001b[49m\u001b[43mallow_unreachable\u001b[49m\u001b[38;5;241;43m=\u001b[39;49m\u001b[38;5;28;43;01mTrue\u001b[39;49;00m\u001b[43m,\u001b[49m\n\u001b[1;32m    354\u001b[0m \u001b[43m    \u001b[49m\u001b[43maccumulate_grad\u001b[49m\u001b[38;5;241;43m=\u001b[39;49m\u001b[38;5;28;43;01mTrue\u001b[39;49;00m\u001b[43m,\u001b[49m\n\u001b[1;32m    355\u001b[0m \u001b[43m\u001b[49m\u001b[43m)\u001b[49m\n",
      "File \u001b[0;32m~/.pyenv/versions/3.12.4/lib/python3.12/site-packages/torch/autograd/graph.py:825\u001b[0m, in \u001b[0;36m_engine_run_backward\u001b[0;34m(t_outputs, *args, **kwargs)\u001b[0m\n\u001b[1;32m    823\u001b[0m     unregister_hooks \u001b[38;5;241m=\u001b[39m _register_logging_hooks_on_whole_graph(t_outputs)\n\u001b[1;32m    824\u001b[0m \u001b[38;5;28;01mtry\u001b[39;00m:\n\u001b[0;32m--> 825\u001b[0m     \u001b[38;5;28;01mreturn\u001b[39;00m \u001b[43mVariable\u001b[49m\u001b[38;5;241;43m.\u001b[39;49m\u001b[43m_execution_engine\u001b[49m\u001b[38;5;241;43m.\u001b[39;49m\u001b[43mrun_backward\u001b[49m\u001b[43m(\u001b[49m\u001b[43m  \u001b[49m\u001b[38;5;66;43;03m# Calls into the C++ engine to run the backward pass\u001b[39;49;00m\n\u001b[1;32m    826\u001b[0m \u001b[43m        \u001b[49m\u001b[43mt_outputs\u001b[49m\u001b[43m,\u001b[49m\u001b[43m \u001b[49m\u001b[38;5;241;43m*\u001b[39;49m\u001b[43margs\u001b[49m\u001b[43m,\u001b[49m\u001b[43m \u001b[49m\u001b[38;5;241;43m*\u001b[39;49m\u001b[38;5;241;43m*\u001b[39;49m\u001b[43mkwargs\u001b[49m\n\u001b[1;32m    827\u001b[0m \u001b[43m    \u001b[49m\u001b[43m)\u001b[49m  \u001b[38;5;66;03m# Calls into the C++ engine to run the backward pass\u001b[39;00m\n\u001b[1;32m    828\u001b[0m \u001b[38;5;28;01mfinally\u001b[39;00m:\n\u001b[1;32m    829\u001b[0m     \u001b[38;5;28;01mif\u001b[39;00m attach_logging_hooks:\n",
      "\u001b[0;31mRuntimeError\u001b[0m: element 0 of tensors does not require grad and does not have a grad_fn"
     ]
    }
   ],
   "source": [
    "evaluate(model, test_loader)"
   ]
  },
  {
   "cell_type": "code",
   "execution_count": null,
   "metadata": {},
   "outputs": [],
   "source": []
  }
 ],
 "metadata": {
  "kernelspec": {
   "display_name": "Python 3",
   "language": "python",
   "name": "python3"
  },
  "language_info": {
   "codemirror_mode": {
    "name": "ipython",
    "version": 3
   },
   "file_extension": ".py",
   "mimetype": "text/x-python",
   "name": "python",
   "nbconvert_exporter": "python",
   "pygments_lexer": "ipython3",
   "version": "3.12.4"
  }
 },
 "nbformat": 4,
 "nbformat_minor": 2
}
