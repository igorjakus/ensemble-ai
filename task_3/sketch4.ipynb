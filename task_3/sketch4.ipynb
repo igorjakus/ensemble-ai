{
 "cells": [
  {
   "cell_type": "code",
   "execution_count": null,
   "metadata": {},
   "outputs": [],
   "source": [
    "import matplotlib.pyplot as plt\n",
    "import torch\n",
    "import torch.nn as nn\n",
    "import torch.nn.functional as F\n",
    "import torch.optim as optim\n",
    "from torch.utils.data import DataLoader\n",
    "from torchvision import models\n",
    "from tqdm.notebook import tqdm"
   ]
  },
  {
   "cell_type": "code",
   "execution_count": 2,
   "metadata": {},
   "outputs": [
    {
     "name": "stderr",
     "output_type": "stream",
     "text": [
      "/Users/igorjakus/projects/ensemble-ai/task_3/task_dataset.py:33: FutureWarning: You are using `torch.load` with `weights_only=False` (the current default value), which uses the default pickle module implicitly. It is possible to construct malicious pickle data which will execute arbitrary code during unpickling (See https://github.com/pytorch/pytorch/blob/main/SECURITY.md#untrusted-models for more details). In a future release, the default value for `weights_only` will be flipped to `True`. This limits the functions that could be executed during unpickling. Arbitrary objects will no longer be allowed to be loaded via this mode unless they are explicitly allowlisted by the user via `torch.serialization.add_safe_globals`. We recommend you start setting `weights_only=True` for any use case where you don't have full control of the loaded file. Please open an issue on GitHub for any issues related to this experimental feature.\n",
      "  return torch.load(path)\n"
     ]
    }
   ],
   "source": [
    "from task_dataset import load_dataset, TaskDataset  # noqa !!! don't remove this line\n",
    "\n",
    "dataset = load_dataset('Train.pt')\n",
    "# visualization of the dataset is in dataset.ipynb\n",
    "# (32, 32) is the size of the images\n",
    "# 10 is the number of classes"
   ]
  },
  {
   "cell_type": "markdown",
   "metadata": {},
   "source": [
    "## Setup Data Loaders"
   ]
  },
  {
   "cell_type": "code",
   "execution_count": null,
   "metadata": {},
   "outputs": [],
   "source": [
    "# Split dataset into train and validation\n",
    "\n",
    "train_size = int(0.8 * len(dataset))\n",
    "val_size = len(dataset) - train_size\n",
    "train_dataset, val_dataset = torch.utils.data.random_split(dataset, [train_size, val_size])\n",
    "\n",
    "# Create data loaders\n",
    "train_loader = DataLoader(train_dataset, batch_size=64, shuffle=True, num_workers=2)\n",
    "val_loader = DataLoader(val_dataset, batch_size=64, shuffle=False, num_workers=2)\n",
    "\n",
    "# Check number of classes\n",
    "num_classes = len(set(dataset.labels))"
   ]
  },
  {
   "cell_type": "markdown",
   "metadata": {},
   "source": [
    "## Model Setup"
   ]
  },
  {
   "cell_type": "code",
   "execution_count": null,
   "metadata": {},
   "outputs": [],
   "source": [
    "# Create model\n",
    "device = torch.device(\"cuda\" if torch.cuda.is_available() else \"cpu\")\n",
    "print(f\"Using device: {device}\")\n",
    "\n",
    "# Define model and replace final laye\n",
    "model_name = \"resnet18\"\n",
    "model = models.resnet18(pretrained=True)\n",
    "model.fc = nn.Linear(model.fc.in_features, num_classes)\n",
    "model = model.to(device)\n",
    "\n",
    "# Define optimizer and loss function\n",
    "optimizer = optim.Adam(model.parameters(), lr=0.001)\n",
    "criterion = nn.CrossEntropyLoss()"
   ]
  },
  {
   "cell_type": "markdown",
   "metadata": {},
   "source": [
    "## Adversial attacks"
   ]
  },
  {
   "cell_type": "code",
   "execution_count": null,
   "metadata": {},
   "outputs": [],
   "source": [
    "def fgsm_attack(model, images, labels, epsilon=0.1):\n",
    "    # Make sure gradients are calculated\n",
    "    images.requires_grad = True\n",
    "    \n",
    "    # Forward pass\n",
    "    outputs = model(images)\n",
    "    loss = F.cross_entropy(outputs, labels)\n",
    "    \n",
    "    # Backward pass\n",
    "    model.zero_grad()\n",
    "    loss.backward()\n",
    "    \n",
    "    # Create perturbation\n",
    "    data_grad = images.grad.data\n",
    "    sign_data_grad = data_grad.sign()\n",
    "    \n",
    "    # Create adversarial example\n",
    "    perturbed_images = images + epsilon * sign_data_grad\n",
    "    \n",
    "    # Clamp to ensure valid pixel range [0,1]\n",
    "    perturbed_images = torch.clamp(perturbed_images, 0, 1)\n",
    "    \n",
    "    return perturbed_images"
   ]
  },
  {
   "cell_type": "code",
   "execution_count": null,
   "metadata": {},
   "outputs": [],
   "source": [
    "def pgd_attack(model, images, labels, epsilon=0.1, alpha=0.01, num_iter=10):\n",
    "    perturbed_images = images.clone().detach()\n",
    "    \n",
    "    for i in range(num_iter):\n",
    "        perturbed_images.requires_grad = True\n",
    "        \n",
    "        # Forward pass\n",
    "        outputs = model(perturbed_images)\n",
    "        loss = F.cross_entropy(outputs, labels)\n",
    "        \n",
    "        # Backward pass\n",
    "        if perturbed_images.grad is not None:\n",
    "            perturbed_images.grad.data.zero_()\n",
    "        loss.backward()\n",
    "        \n",
    "        # Create single-step perturbation\n",
    "        data_grad = perturbed_images.grad.data\n",
    "        adv_images = perturbed_images.detach() + alpha * data_grad.sign()\n",
    "        \n",
    "        # Project back to epsilon ball\n",
    "        eta = torch.clamp(adv_images - images, -epsilon, epsilon)\n",
    "        perturbed_images = torch.clamp(images + eta, 0, 1).detach()\n",
    "    \n",
    "    return perturbed_images"
   ]
  },
  {
   "cell_type": "markdown",
   "metadata": {},
   "source": [
    "## Training Functions"
   ]
  },
  {
   "cell_type": "code",
   "execution_count": null,
   "metadata": {},
   "outputs": [],
   "source": [
    "def train_epoch(model, dataloader, optimizer, criterion, device, adversarial=True, epsilon=0.03):\n",
    "    model.train()\n",
    "    running_loss = 0.0\n",
    "    correct = 0\n",
    "    total = 0\n",
    "    \n",
    "    for data in tqdm(dataloader):\n",
    "        # Handle both 2-item and 3-item returns from dataloader\n",
    "        if len(data) == 3:\n",
    "            _, images, labels = data\n",
    "        else:\n",
    "            images, labels = data\n",
    "        \n",
    "        images, labels = images.to(device), labels.to(device)\n",
    "        \n",
    "        # Standard forward pass\n",
    "        optimizer.zero_grad()\n",
    "        outputs = model(images)\n",
    "        loss = criterion(outputs, labels)\n",
    "        \n",
    "        # If adversarial training is enabled\n",
    "        if adversarial:\n",
    "            # Generate adversarial examples with FGSM\n",
    "            adv_images = fgsm_attack(model, images, labels, epsilon)\n",
    "            adv_outputs = model(adv_images)\n",
    "            adv_loss = criterion(adv_outputs, labels)\n",
    "            \n",
    "            # Generate adversarial examples with PGD\n",
    "            pgd_images = pgd_attack(model, images, labels, epsilon, alpha=epsilon/5, num_iter=7)\n",
    "            pgd_outputs = model(pgd_images)\n",
    "            pgd_loss = criterion(pgd_outputs, labels)\n",
    "            \n",
    "            # Combined loss\n",
    "            loss = loss + 0.5 * adv_loss + 0.5 * pgd_loss\n",
    "        \n",
    "        # Backward and optimize\n",
    "        loss.backward()\n",
    "        optimizer.step()\n",
    "        \n",
    "        running_loss += loss.item()\n",
    "        _, predicted = outputs.max(1)\n",
    "        total += labels.size(0)\n",
    "        correct += predicted.eq(labels).sum().item()\n",
    "    \n",
    "    accuracy = 100. * correct / total\n",
    "    avg_loss = running_loss / len(dataloader)\n",
    "    return avg_loss, accuracy\n",
    "\n",
    "def evaluate(model, dataloader, criterion, device, attack_type=None, epsilon=0.03):\n",
    "    model.eval()\n",
    "    running_loss = 0.0\n",
    "    correct = 0\n",
    "    total = 0\n",
    "    \n",
    "    for data in tqdm(dataloader):\n",
    "        # Handle both 2-item and 3-item returns from dataloader\n",
    "        if len(data) == 3:\n",
    "            _, images, labels = data\n",
    "        else:\n",
    "            images, labels = data\n",
    "        \n",
    "        images, labels = images.to(device), labels.to(device)\n",
    "        \n",
    "        # If using attack\n",
    "        if attack_type == \"fgsm\":\n",
    "            # Need context manager for evaluation with gradients\n",
    "            with torch.enable_grad():\n",
    "                images.requires_grad = True\n",
    "                images = fgsm_attack(model, images, labels, epsilon)\n",
    "        elif attack_type == \"pgd\":\n",
    "            # Need context manager for evaluation with gradients\n",
    "            with torch.enable_grad():\n",
    "                images = pgd_attack(model, images, labels, epsilon, alpha=epsilon/5, num_iter=10)\n",
    "        \n",
    "        with torch.no_grad():\n",
    "            outputs = model(images)\n",
    "            loss = criterion(outputs, labels)\n",
    "        \n",
    "        running_loss += loss.item()\n",
    "        _, predicted = outputs.max(1)\n",
    "        total += labels.size(0)\n",
    "        correct += predicted.eq(labels).sum().item()\n",
    "    \n",
    "    accuracy = 100. * correct / total\n",
    "    avg_loss = running_loss / len(dataloader)\n",
    "    return avg_loss, accuracy"
   ]
  },
  {
   "cell_type": "markdown",
   "metadata": {},
   "source": [
    "## Training Loop"
   ]
  },
  {
   "cell_type": "code",
   "execution_count": null,
   "metadata": {},
   "outputs": [],
   "source": [
    "def train_model(model, train_loader, val_loader, optimizer, criterion, device, num_epochs=10, adversarial=True):\n",
    "    history = {'train_loss': [], 'train_acc': [], 'val_loss': [], 'val_acc': [], \n",
    "              'val_fgsm_loss': [], 'val_fgsm_acc': [], 'val_pgd_loss': [], 'val_pgd_acc': []}\n",
    "    \n",
    "    best_acc = 0.0\n",
    "    \n",
    "    for epoch in range(num_epochs):\n",
    "        print(f\"Epoch {epoch+1}/{num_epochs}\")\n",
    "        \n",
    "        # Train\n",
    "        train_loss, train_acc = train_epoch(model, train_loader, optimizer, criterion, device, adversarial)\n",
    "        history['train_loss'].append(train_loss)\n",
    "        history['train_acc'].append(train_acc)\n",
    "        print(f\"Train Loss: {train_loss:.4f}, Train Acc: {train_acc:.2f}%\")\n",
    "        \n",
    "        # Evaluate on clean validation data\n",
    "        val_loss, val_acc = evaluate(model, val_loader, criterion, device)\n",
    "        history['val_loss'].append(val_loss)\n",
    "        history['val_acc'].append(val_acc)\n",
    "        print(f\"Val Loss: {val_loss:.4f}, Val Acc: {val_acc:.2f}%\")\n",
    "        \n",
    "        # Evaluate on FGSM adversarial examples\n",
    "        fgsm_loss, fgsm_acc = evaluate(model, val_loader, criterion, device, \"fgsm\")\n",
    "        history['val_fgsm_loss'].append(fgsm_loss)\n",
    "        history['val_fgsm_acc'].append(fgsm_acc)\n",
    "        print(f\"FGSM Loss: {fgsm_loss:.4f}, FGSM Acc: {fgsm_acc:.2f}%\")\n",
    "        \n",
    "        # Evaluate on PGD adversarial examples\n",
    "        pgd_loss, pgd_acc = evaluate(model, val_loader, criterion, device, \"pgd\")\n",
    "        history['val_pgd_loss'].append(pgd_loss)\n",
    "        history['val_pgd_acc'].append(pgd_acc)\n",
    "        print(f\"PGD Loss: {pgd_loss:.4f}, PGD Acc: {pgd_acc:.2f}%\")\n",
    "        \n",
    "        # Save the best model based on average accuracy across clean and adversarial examples\n",
    "        avg_acc = (val_acc + fgsm_acc + pgd_acc) / 3\n",
    "        if avg_acc > best_acc:\n",
    "            best_acc = avg_acc\n",
    "            torch.save({\n",
    "                'model_state_dict': model.state_dict(),\n",
    "                'model_class': model_name\n",
    "            }, 'best_model.pt')\n",
    "            print(f\"Saved new best model with avg acc: {avg_acc:.2f}%\")\n",
    "    \n",
    "    return history\n",
    "\n",
    "# Train model with adversarial training\n",
    "history = train_model(model, train_loader, val_loader, optimizer, criterion, device, num_epochs=10, adversarial=True)"
   ]
  },
  {
   "cell_type": "markdown",
   "metadata": {},
   "source": [
    "## Visualize Results"
   ]
  },
  {
   "cell_type": "code",
   "execution_count": null,
   "metadata": {},
   "outputs": [],
   "source": [
    "def plot_history(history):\n",
    "    plt.figure(figsize=(12, 8))\n",
    "    \n",
    "    plt.subplot(2, 1, 1)\n",
    "    plt.plot(history['train_loss'], label='Train Loss')\n",
    "    plt.plot(history['val_loss'], label='Val Loss')\n",
    "    plt.plot(history['val_fgsm_loss'], label='FGSM Loss')\n",
    "    plt.plot(history['val_pgd_loss'], label='PGD Loss')\n",
    "    plt.title('Training and Validation Loss')\n",
    "    plt.xlabel('Epochs')\n",
    "    plt.ylabel('Loss')\n",
    "    plt.legend()\n",
    "    \n",
    "    plt.subplot(2, 1, 2)\n",
    "    plt.plot(history['train_acc'], label='Train Acc')\n",
    "    plt.plot(history['val_acc'], label='Val Acc')\n",
    "    plt.plot(history['val_fgsm_acc'], label='FGSM Acc')\n",
    "    plt.plot(history['val_pgd_acc'], label='PGD Acc')\n",
    "    plt.title('Training and Validation Accuracy')\n",
    "    plt.xlabel('Epochs')\n",
    "    plt.ylabel('Accuracy (%)')\n",
    "    plt.legend()\n",
    "    \n",
    "    plt.tight_layout()\n",
    "    plt.show()\n",
    "\n",
    "plot_history(history)"
   ]
  },
  {
   "cell_type": "markdown",
   "metadata": {},
   "source": [
    "## Final Submission"
   ]
  },
  {
   "cell_type": "code",
   "execution_count": null,
   "metadata": {},
   "outputs": [],
   "source": [
    "# Load the best model\n",
    "checkpoint = torch.load('best_model.pt')\n",
    "model_class = checkpoint['model_class']\n",
    "model = models.__dict__[model_class]()\n",
    "model.fc = nn.Linear(model.fc.in_features, num_classes)\n",
    "model.load_state_dict(checkpoint['model_state_dict'])\n",
    "\n",
    "# Final evaluation\n",
    "print(\"Final Evaluation:\")\n",
    "model.to(device)\n",
    "clean_loss, clean_acc = evaluate(model, val_loader, criterion, device)\n",
    "fgsm_loss, fgsm_acc = evaluate(model, val_loader, criterion, device, \"fgsm\")\n",
    "pgd_loss, pgd_acc = evaluate(model, val_loader, criterion, device, \"pgd\")\n",
    "\n",
    "print(f\"Clean Accuracy: {clean_acc:.2f}%\")\n",
    "print(f\"FGSM Accuracy: {fgsm_acc:.2f}%\")\n",
    "print(f\"PGD Accuracy: {pgd_acc:.2f}%\")\n",
    "print(f\"Average Accuracy: {(clean_acc + fgsm_acc + pgd_acc) / 3:.2f}%\")\n",
    "\n",
    "# Save final submission\n",
    "torch.save({\n",
    "    'model_state_dict': model.state_dict(),\n",
    "    'model_class': model_class\n",
    "}, 'submission.pt')\n",
    "print(\"Saved submission.pt file.\")"
   ]
  }
 ],
 "metadata": {
  "kernelspec": {
   "display_name": "Python 3",
   "language": "python",
   "name": "python3"
  },
  "language_info": {
   "codemirror_mode": {
    "name": "ipython",
    "version": 3
   },
   "file_extension": ".py",
   "mimetype": "text/x-python",
   "name": "python",
   "nbconvert_exporter": "python",
   "pygments_lexer": "ipython3",
   "version": "3.12.4"
  }
 },
 "nbformat": 4,
 "nbformat_minor": 2
}
